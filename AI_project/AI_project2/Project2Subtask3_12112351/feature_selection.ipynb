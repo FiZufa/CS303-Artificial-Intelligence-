{
 "cells": [
  {
   "cell_type": "code",
   "execution_count": 1,
   "metadata": {},
   "outputs": [],
   "source": [
    "import numpy as np\n",
    "import util"
   ]
  },
  {
   "cell_type": "markdown",
   "metadata": {},
   "source": [
    "## 1. Data Loading"
   ]
  },
  {
   "cell_type": "code",
   "execution_count": 2,
   "metadata": {},
   "outputs": [],
   "source": [
    "validation_data = util.load_data(\"./data/classification_validation_data.pkl\")\n",
    "validation_label = util.load_data(\"./data/classification_validation_label.pkl\")"
   ]
  },
  {
   "cell_type": "code",
   "execution_count": 3,
   "metadata": {},
   "outputs": [],
   "source": [
    "# remove index column\n",
    "train_data_index = validation_data[:, 0]\n",
    "train_label_index = validation_label[:, 0]\n",
    "validation_data = validation_data[:, 1:]\n",
    "validation_label = validation_label[:, 1:].reshape(-1)"
   ]
  },
  {
   "cell_type": "code",
   "execution_count": 4,
   "metadata": {},
   "outputs": [
    {
     "data": {
      "text/plain": [
       "((9996, 256), (9996,))"
      ]
     },
     "execution_count": 4,
     "metadata": {},
     "output_type": "execute_result"
    }
   ],
   "source": [
    "validation_data.shape, validation_label.shape"
   ]
  },
  {
   "cell_type": "code",
   "execution_count": 5,
   "metadata": {},
   "outputs": [
    {
     "data": {
      "text/plain": [
       "((9996,), (9996,))"
      ]
     },
     "execution_count": 5,
     "metadata": {},
     "output_type": "execute_result"
    }
   ],
   "source": [
    "train_data_index.shape, train_label_index.shape"
   ]
  },
  {
   "cell_type": "markdown",
   "metadata": {},
   "source": [
    "## 2. Feature Selection"
   ]
  },
  {
   "cell_type": "code",
   "execution_count": 25,
   "metadata": {},
   "outputs": [
    {
     "name": "stdout",
     "output_type": "stream",
     "text": [
      "top_30_indices\n",
      "[  0   4   5 144 219 184 216 189 240   9 187 211 208 152 242 243 157  16\n",
      " 179 176 251 188 248 149 210 142 150 234  28 155]\n"
     ]
    }
   ],
   "source": [
    "#validation_data\n",
    "num_features_to_select = 30\n",
    "\n",
    "correlations = np.zeros(validation_data.shape[1])\n",
    "\n",
    "for i in range(validation_data.shape[1]):\n",
    "    correlations[i] = np.corrcoef(validation_data[:, i], validation_label)[0, 1]\n",
    "\n",
    "# Select the top 30 features based on absolute correlation values\n",
    "top_30_indices = np.argsort(np.abs(correlations))[::-1][:30]\n",
    "#validation_variance = np.var(validation_data, axis=0)\n",
    "#print(validation_variance)\n",
    "#print(\"validation_variance:\", validation_variance.shape)\n",
    "#top_30_indices = np.argsort(validation_variance)[30:]\n",
    "#top_30_indices = np.argsort(validation_variance)[::-1][:30]\n",
    "#top_30_indices = np.argsort(validation_variance)[:30]\n",
    "#print(top_30_indices)\n",
    "print('top_30_indices')\n",
    "print(top_30_indices)\n",
    "\n",
    "# highest_value = np.max(validation_variance)\n",
    "# lowest_value = np.min(validation_variance)\n",
    "\n",
    "# Print the results\n",
    "# print(\"Highest value in validation_variance:\", highest_value)\n",
    "# print(\"Lowest value in validation_variance:\", lowest_value)\n",
    "\n",
    "# for i in range(30):\n",
    "#     print(str(validation_variance[top_30_indices[i]]) + \",\")\n",
    "\n",
    "\n",
    "\n",
    "# feature index\n",
    "# indexs = np.arange(validation_data.shape[1]) \n",
    "#print(indexs)\n",
    "\n",
    "# Randomly select 30 features index\n",
    "np.random.seed(42)\n",
    "#random_indexs = np.random.choice(indexs, size=30, replace=False)\n",
    "#random_indexs\n"
   ]
  },
  {
   "cell_type": "code",
   "execution_count": 26,
   "metadata": {},
   "outputs": [
    {
     "data": {
      "text/plain": [
       "array([[0., 0., 0., 0., 0., 0., 0., 0., 0., 0., 0., 0., 0., 0., 0., 0.,\n",
       "        0., 0., 0., 0., 0., 0., 0., 0., 0., 0., 0., 0., 0., 0., 0., 0.,\n",
       "        0., 0., 0., 0., 0., 0., 0., 0., 0., 0., 0., 0., 0., 0., 0., 0.,\n",
       "        0., 0., 0., 0., 0., 0., 0., 0., 0., 0., 0., 0., 0., 0., 0., 0.,\n",
       "        0., 0., 0., 0., 0., 0., 0., 0., 0., 0., 0., 0., 0., 0., 0., 0.,\n",
       "        0., 0., 0., 0., 0., 0., 0., 0., 0., 0., 0., 0., 0., 0., 0., 0.,\n",
       "        0., 0., 0., 0., 0., 0., 0., 0., 0., 0., 0., 0., 0., 0., 0., 0.,\n",
       "        0., 0., 0., 0., 0., 0., 0., 0., 0., 0., 0., 0., 0., 0., 0., 0.,\n",
       "        0., 0., 0., 0., 0., 0., 0., 0., 0., 0., 0., 0., 0., 0., 0., 0.,\n",
       "        0., 0., 0., 0., 0., 0., 0., 0., 0., 0., 0., 0., 0., 0., 0., 0.,\n",
       "        0., 0., 0., 0., 0., 0., 0., 0., 0., 0., 0., 0., 0., 0., 0., 0.,\n",
       "        0., 0., 0., 0., 0., 0., 0., 0., 0., 0., 0., 0., 0., 0., 0., 0.,\n",
       "        0., 0., 0., 0., 0., 0., 0., 0., 0., 0., 0., 0., 0., 0., 0., 0.,\n",
       "        0., 0., 0., 0., 0., 0., 0., 0., 0., 0., 0., 0., 0., 0., 0., 0.,\n",
       "        0., 0., 0., 0., 0., 0., 0., 0., 0., 0., 0., 0., 0., 0., 0., 0.,\n",
       "        0., 0., 0., 0., 0., 0., 0., 0., 0., 0., 0., 0., 0., 0., 0., 0.]])"
      ]
     },
     "execution_count": 26,
     "metadata": {},
     "output_type": "execute_result"
    }
   ],
   "source": [
    "mask_code = np.zeros((1, validation_data.shape[1]))\n",
    "mask_code"
   ]
  },
  {
   "cell_type": "code",
   "execution_count": 29,
   "metadata": {},
   "outputs": [
    {
     "data": {
      "text/plain": [
       "array([[1., 0., 0., 0., 1., 1., 0., 0., 0., 1., 0., 0., 0., 0., 0., 0.,\n",
       "        1., 0., 0., 0., 0., 0., 0., 0., 0., 0., 0., 0., 1., 0., 0., 0.,\n",
       "        0., 0., 0., 0., 0., 0., 0., 0., 0., 0., 0., 0., 0., 0., 0., 0.,\n",
       "        0., 0., 0., 0., 0., 0., 0., 0., 0., 0., 0., 0., 0., 0., 0., 0.,\n",
       "        0., 0., 0., 0., 0., 0., 0., 0., 0., 0., 0., 0., 0., 0., 0., 0.,\n",
       "        0., 0., 0., 0., 0., 0., 0., 0., 0., 0., 0., 0., 0., 0., 0., 0.,\n",
       "        0., 0., 0., 0., 0., 0., 0., 0., 0., 0., 0., 0., 0., 0., 0., 0.,\n",
       "        0., 0., 0., 0., 0., 0., 0., 0., 0., 0., 0., 0., 0., 0., 0., 0.,\n",
       "        0., 0., 0., 0., 0., 0., 0., 0., 0., 0., 0., 0., 0., 0., 1., 0.,\n",
       "        1., 0., 0., 0., 0., 1., 1., 0., 1., 0., 0., 1., 0., 1., 0., 0.,\n",
       "        0., 0., 0., 0., 0., 0., 0., 0., 0., 0., 0., 0., 0., 0., 0., 0.,\n",
       "        1., 0., 0., 1., 0., 0., 0., 0., 1., 0., 0., 1., 1., 1., 0., 0.,\n",
       "        0., 0., 0., 0., 0., 0., 0., 0., 0., 0., 0., 0., 0., 0., 0., 0.,\n",
       "        1., 0., 1., 1., 0., 0., 0., 0., 1., 0., 0., 1., 0., 0., 0., 0.,\n",
       "        0., 0., 0., 0., 0., 0., 0., 0., 0., 0., 1., 0., 0., 0., 0., 0.,\n",
       "        1., 0., 1., 1., 0., 0., 0., 0., 1., 0., 0., 1., 0., 0., 0., 0.]])"
      ]
     },
     "execution_count": 29,
     "metadata": {},
     "output_type": "execute_result"
    }
   ],
   "source": [
    "# N = 10\n",
    "# mask_codes_list = []\n",
    "# for i in range(N):\n",
    "#     mask_code[0, random_indexs] = 1\n",
    "#     mask_codes_list.append(mask_code)\n",
    "    \n",
    "#print(mask_codes_list)\n",
    "# fitness_values = np.zeros(N, dtype=int)\n",
    "# for i in range(N):\n",
    "#     fitness_values[i] = \n",
    "# calculate variacnve for each feature\n",
    "# then choose highest 30 features\n",
    "mask_code[0, top_30_indices] = 1\n",
    "mask_code\n",
    "# count_of_ones = np.count_nonzero(mask_code == 1)\n",
    "# print(count_of_ones)"
   ]
  },
  {
   "cell_type": "code",
   "execution_count": 28,
   "metadata": {},
   "outputs": [
    {
     "name": "stdout",
     "output_type": "stream",
     "text": [
      "Saved successfully\n"
     ]
    }
   ],
   "source": [
    "util.save_data(\"./mask_code.pkl\", mask_code)"
   ]
  },
  {
   "cell_type": "code",
   "execution_count": null,
   "metadata": {},
   "outputs": [],
   "source": []
  }
 ],
 "metadata": {
  "kernelspec": {
   "display_name": "Python 3 (ipykernel)",
   "language": "python",
   "name": "python3"
  },
  "language_info": {
   "codemirror_mode": {
    "name": "ipython",
    "version": 3
   },
   "file_extension": ".py",
   "mimetype": "text/x-python",
   "name": "python",
   "nbconvert_exporter": "python",
   "pygments_lexer": "ipython3",
   "version": "3.11.4"
  }
 },
 "nbformat": 4,
 "nbformat_minor": 4
}
