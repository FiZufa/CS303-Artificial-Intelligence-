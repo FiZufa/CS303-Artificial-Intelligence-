{
 "cells": [
  {
   "cell_type": "markdown",
   "id": "64da1d8e",
   "metadata": {},
   "source": [
    "## Numpy Practice (0.5 point)\n",
    "\n",
    "1. Create a 10*10 ndarray object, and the matrix boundary value is 1, and the rest are 0.\n"
   ]
  },
  {
   "cell_type": "code",
   "execution_count": 2,
   "id": "035382e3",
   "metadata": {},
   "outputs": [
    {
     "name": "stdout",
     "output_type": "stream",
     "text": [
      "[[1. 1. 1. 1. 1. 1. 1. 1. 1. 1.]\n",
      " [1. 0. 0. 0. 0. 0. 0. 0. 0. 1.]\n",
      " [1. 0. 0. 0. 0. 0. 0. 0. 0. 1.]\n",
      " [1. 0. 0. 0. 0. 0. 0. 0. 0. 1.]\n",
      " [1. 0. 0. 0. 0. 0. 0. 0. 0. 1.]\n",
      " [1. 0. 0. 0. 0. 0. 0. 0. 0. 1.]\n",
      " [1. 0. 0. 0. 0. 0. 0. 0. 0. 1.]\n",
      " [1. 0. 0. 0. 0. 0. 0. 0. 0. 1.]\n",
      " [1. 0. 0. 0. 0. 0. 0. 0. 0. 1.]\n",
      " [1. 1. 1. 1. 1. 1. 1. 1. 1. 1.]]\n"
     ]
    }
   ],
   "source": [
    "#1\n",
    "import numpy as np\n",
    "\n",
    "matrix = np.zeros((10, 10), dtype=float)\n",
    "\n",
    "matrix[0, :] = 1 # Top row\n",
    "matrix[-1, :] = 1       # Bottom row\n",
    "matrix[:, 0] = 1        # Leftmost column\n",
    "matrix[:, -1] = 1       # Rightmost column\n",
    "\n",
    "# Print the resulting matrix\n",
    "print(matrix)\n"
   ]
  },
  {
   "cell_type": "markdown",
   "id": "8d3b3c80",
   "metadata": {},
   "source": [
    "2. Create a 5*5 matrix with each row being 0 to 4"
   ]
  },
  {
   "cell_type": "code",
   "execution_count": 5,
   "id": "6c26347e",
   "metadata": {},
   "outputs": [
    {
     "name": "stdout",
     "output_type": "stream",
     "text": [
      "[[0 1 2 3 4]\n",
      " [0 1 2 3 4]\n",
      " [0 1 2 3 4]\n",
      " [0 1 2 3 4]\n",
      " [0 1 2 3 4]]\n"
     ]
    }
   ],
   "source": [
    "#2\n",
    "import numpy as np\n",
    "\n",
    "#matrix = np.random.randint(0, 5, size=(4, 5))\n",
    "matrix = np.array([list(range(5)) for _ in range(5)])\n",
    "print(matrix)\n",
    "\n"
   ]
  },
  {
   "cell_type": "markdown",
   "id": "8b226308",
   "metadata": {},
   "source": [
    "3. Create an 8*8 matrix and fill it with a checkerboard pattern, like [[0,1],[1,0]])"
   ]
  },
  {
   "cell_type": "code",
   "execution_count": 3,
   "id": "e83e8494",
   "metadata": {},
   "outputs": [
    {
     "name": "stdout",
     "output_type": "stream",
     "text": [
      "[[0. 1. 0. 1. 0. 1. 0. 1.]\n",
      " [1. 0. 1. 0. 1. 0. 1. 0.]\n",
      " [0. 1. 0. 1. 0. 1. 0. 1.]\n",
      " [1. 0. 1. 0. 1. 0. 1. 0.]\n",
      " [0. 1. 0. 1. 0. 1. 0. 1.]\n",
      " [1. 0. 1. 0. 1. 0. 1. 0.]\n",
      " [0. 1. 0. 1. 0. 1. 0. 1.]\n",
      " [1. 0. 1. 0. 1. 0. 1. 0.]]\n"
     ]
    }
   ],
   "source": [
    "#3\n",
    "import numpy as np\n",
    "\n",
    "matrix = np.zeros((8, 8), dtype=float)\n",
    "\n",
    "matrix[1::2, ::2] = 1  \n",
    "matrix[::2, 1::2] = 1  \n",
    "\n",
    "print(matrix)\n"
   ]
  },
  {
   "cell_type": "markdown",
   "id": "04663245",
   "metadata": {},
   "source": [
    "4. output all the odd numbers in the array  \n",
    "   Example:  \n",
    "   in:    arr = np.array([0, 1, 2, 3, 4, 5, 6, 7, 8, 9])  \n",
    "   out:   array([1, 3, 5, 7, 9])  "
   ]
  },
  {
   "cell_type": "code",
   "execution_count": 1,
   "id": "7964df33",
   "metadata": {},
   "outputs": [
    {
     "name": "stdout",
     "output_type": "stream",
     "text": [
      "[1 3 5 7 9]\n"
     ]
    }
   ],
   "source": [
    "#4\n",
    "import numpy as np\n",
    "\n",
    "arr = np.array([0, 1, 2, 3, 4, 5, 6, 7, 8, 9])\n",
    "\n",
    "odd_numbers = arr[arr % 2 != 0]\n",
    "\n",
    "print(odd_numbers)"
   ]
  },
  {
   "cell_type": "markdown",
   "id": "fc506104",
   "metadata": {},
   "source": [
    "5. Normalize a 5x5 random matrix that follows the Gaussian distribution N(4,3).(Z-Score Normalization零均值归一化)"
   ]
  },
  {
   "cell_type": "code",
   "execution_count": 6,
   "id": "972284fd",
   "metadata": {},
   "outputs": [
    {
     "name": "stdout",
     "output_type": "stream",
     "text": [
      "[[ 2.00191425  0.06375092 -0.3985258  -0.38224927 -0.71024274]\n",
      " [ 1.44948205  0.66253421 -0.79329111  1.49803823 -0.93830369]\n",
      " [-0.93913692 -0.83352527 -0.46500608 -0.45576523  1.32424473]\n",
      " [-0.52621487 -0.14003984  1.20062835  0.30729934  0.38674917]\n",
      " [-0.36599257 -0.1528282  -0.1915366   0.93561325 -0.04287492]]\n"
     ]
    }
   ],
   "source": [
    "#5\n",
    "import numpy as np\n",
    "\n",
    "mu = 4\n",
    "sigma = 3\n",
    "\n",
    "\n",
    "random_matrix = np.random.normal(mu, sigma, size=(5, 5))\n",
    "\n",
    "normalized_matrix = (random_matrix - mu) / sigma\n",
    "\n",
    "print(normalized_matrix)\n"
   ]
  },
  {
   "cell_type": "markdown",
   "id": "df87456c",
   "metadata": {},
   "source": [
    "6. Consider a random positive 10x2 matrix representing cartesian coordinates, convert them to polar coordinates."
   ]
  },
  {
   "cell_type": "code",
   "execution_count": 7,
   "id": "125feb23",
   "metadata": {},
   "outputs": [
    {
     "name": "stdout",
     "output_type": "stream",
     "text": [
      "Cartesian Coordinates:\n",
      "[[0.27920613 0.33505813]\n",
      " [0.1834236  0.25431323]\n",
      " [0.85040805 0.79967123]\n",
      " [0.12957993 0.00249208]\n",
      " [0.86380105 0.66304711]\n",
      " [0.76499229 0.39623407]\n",
      " [0.04931081 0.93575198]\n",
      " [0.76367324 0.58532943]\n",
      " [0.32625537 0.2662663 ]\n",
      " [0.5889147  0.69145952]]\n",
      "\n",
      "Polar Coordinates:\n",
      "[[ 0.4361422  50.19533467]\n",
      " [ 0.3135593  54.19894559]\n",
      " [ 1.16733368 43.23881794]\n",
      " [ 0.1296039   1.10177594]\n",
      " [ 1.08893697 37.50956959]\n",
      " [ 0.8615188  27.38227052]\n",
      " [ 0.93705033 86.98350575]\n",
      " [ 0.96218883 37.46893084]\n",
      " [ 0.42111792 39.21886441]\n",
      " [ 0.90826031 49.57902916]]\n"
     ]
    }
   ],
   "source": [
    "#6\n",
    "import numpy as np\n",
    "\n",
    "cartesian_matrix = np.random.rand(10, 2) \n",
    "\n",
    "radius = np.sqrt(cartesian_matrix[:, 0]**2 + cartesian_matrix[:, 1]**2) #radius is 1D array\n",
    "\n",
    "angle = np.arctan2(cartesian_matrix[:, 1], cartesian_matrix[:, 0]) #this also 1D array\n",
    "\n",
    "angle_degrees = np.degrees(angle)\n",
    "\n",
    "polar_matrix = np.column_stack((radius, angle_degrees))\n",
    "\n",
    "# Print the Cartesian and polar matrices\n",
    "print(\"Cartesian Coordinates:\")\n",
    "print(cartesian_matrix)\n",
    "print(\"\\nPolar Coordinates:\")\n",
    "print(polar_matrix)\n"
   ]
  },
  {
   "cell_type": "markdown",
   "id": "c1cedf1f",
   "metadata": {},
   "source": [
    "7. Consider the vector [1, 2, 3, 4, 5], how to build a new vector with 3 consecutive zeros interleaved between each value?"
   ]
  },
  {
   "cell_type": "code",
   "execution_count": 3,
   "id": "c8a88dfd",
   "metadata": {},
   "outputs": [
    {
     "name": "stdout",
     "output_type": "stream",
     "text": [
      "[1 0 0 0 2 0 0 0 3 0 0 0 4 0 0 0 5]\n"
     ]
    }
   ],
   "source": [
    "#7\n",
    "import numpy as np\n",
    "\n",
    "original_vector = np.array([1, 2, 3, 4, 5])\n",
    "\n",
    "zeros_to_insert = 3\n",
    "\n",
    "new_vector = np.zeros(len(original_vector) + (len(original_vector) - 1) * zeros_to_insert, dtype=original_vector.dtype)\n",
    "\n",
    "new_vector[::zeros_to_insert + 1] = original_vector\n",
    "\n",
    "print(new_vector)\n"
   ]
  },
  {
   "cell_type": "markdown",
   "id": "c7ea103c",
   "metadata": {},
   "source": [
    "8. What are the result of the following expressions?\n",
    "\n",
    "0 * np.nan\n",
    "\n",
    "np.nan == np.nan\n",
    "\n",
    "np.inf > np.nan\n",
    "\n",
    "np.nan - np.nan\n",
    "\n",
    "np.nan in set([np.nan])\n",
    "\n",
    "0.3 == 3 * 0.1 \n",
    "\n",
    "(hint1:nan means not a number \n",
    "\n",
    "hint2:0.1(10) == 0.0001100110011001100110011001100110011001100110011...(2)\n",
    "\n",
    "First guess a result, then print the result, and finally find why"
   ]
  },
  {
   "cell_type": "code",
   "execution_count": 2,
   "id": "ee65170c",
   "metadata": {},
   "outputs": [],
   "source": [
    "#8\n",
    "np.nan\n",
    "False\n",
    "False\n",
    "np.nan\n",
    "True\n",
    "True"
   ]
  },
  {
   "cell_type": "markdown",
   "id": "7218ef9e",
   "metadata": {},
   "source": [
    "9. What are the result of the following expressions? (Hint: the type of pn.nan is float)\n",
    "\n",
    "np.array(0) / np.array(0)\n",
    "\n",
    "np.array(0) // np.array(0)\n",
    "\n",
    "np.array([np.nan]).astype(int).astype(float)\n",
    "\n",
    "\n",
    "First guess a result, then print the result, and finally find why "
   ]
  },
  {
   "cell_type": "code",
   "execution_count": 1,
   "id": "cc0b2732",
   "metadata": {},
   "outputs": [],
   "source": [
    "#9\n",
    "error\n",
    "error\n",
    "0.0"
   ]
  }
 ],
 "metadata": {
  "kernelspec": {
   "display_name": "Python 3 (ipykernel)",
   "language": "python",
   "name": "python3"
  },
  "language_info": {
   "codemirror_mode": {
    "name": "ipython",
    "version": 3
   },
   "file_extension": ".py",
   "mimetype": "text/x-python",
   "name": "python",
   "nbconvert_exporter": "python",
   "pygments_lexer": "ipython3",
   "version": "3.11.4"
  }
 },
 "nbformat": 4,
 "nbformat_minor": 5
}
