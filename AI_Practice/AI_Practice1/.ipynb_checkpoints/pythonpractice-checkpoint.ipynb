{
 "cells": [
  {
   "cell_type": "markdown",
   "metadata": {},
   "source": [
    "## Python Practice (0.5 point)\n",
    "### Snake: Simulate a snake game and print the game results.\n",
    "\n",
    "You are given a map that ‘x’ represents a rock, ‘-’represents a space, ‘#’represents the body of snake. ‘@’represent the head of the snake and a sequence of actions that ‘0,1,2,3’represent to move to up/down/left/right correspondingly for one step.\n",
    "A greedy snake starts in the map state and moves one step per unit of time according to the sequence of actions until all actions complete or fail. It will fail when the head and the stone overlap, the head goes beyond the boundary, or the head overlaps the body. \n",
    "\n",
    "#### Input\n",
    "A matrix with type char (the map). \n",
    "A sequence with type int (the motions). \n",
    "\n",
    "#### Output\n",
    "The result of the game:\n",
    "If it failed, output the running time of the game.\n",
    "If it didn’t fail, output the final position of the head (in the form “%d, %d”)."
   ]
  },
  {
   "cell_type": "code",
   "execution_count": 49,
   "metadata": {},
   "outputs": [
    {
     "data": {
      "text/plain": [
       "'\\nExample:\\ninput:\\nmap:\\n---------\\n------x--\\n-x-------\\n---@-----\\n---##----\\n------x--\\n--x----x-\\n-x-------\\n---------\\naction:\\n0 0 3 3 0 3 3 1 1 1 1 1 3 1 1 2 2 2 2 2\\n\\noutput:\\n7 3\\n'"
      ]
     },
     "execution_count": 49,
     "metadata": {},
     "output_type": "execute_result"
    }
   ],
   "source": [
    "\"\"\"\n",
    "Example:\n",
    "input:\n",
    "map:\n",
    "---------\n",
    "------x--\n",
    "-x-------\n",
    "---@-----\n",
    "---##----\n",
    "------x--\n",
    "--x----x-\n",
    "-x-------\n",
    "---------\n",
    "action:\n",
    "0 0 3 3 0 3 3 1 1 1 1 1 3 1 1 2 2 2 2 2\n",
    "\n",
    "output:\n",
    "7 3\n",
    "\"\"\""
   ]
  },
  {
   "cell_type": "code",
   "execution_count": 53,
   "metadata": {
    "pycharm": {
     "name": "#%%\n"
    }
   },
   "outputs": [
    {
     "name": "stdout",
     "output_type": "stream",
     "text": [
      "7 3\n"
     ]
    }
   ],
   "source": [
    "import numpy as np\n",
    "\n",
    "def snake(map_data, actions):\n",
    "    rows = len(map_data)\n",
    "    cols = len(map_data[0])\n",
    "    snake_head = None\n",
    "    snake_body = []\n",
    "\n",
    "    for r in range(rows):\n",
    "        for c in range(cols):\n",
    "            if map_data[r][c] == '@':\n",
    "                snake_head = (r, c)\n",
    "                snake_body.append(snake_head)\n",
    "            if map_data[r][c] == '#':\n",
    "                snake_body.append((r,c))\n",
    "\n",
    "    t=0\n",
    "    for a in actions:\n",
    "        t+=1\n",
    "        if a == 0:  # Move up\n",
    "            new_head = (snake_head[0]-1, snake_head[1])\n",
    "        elif a == 1:  # Move down\n",
    "            new_head = (snake_head[0]+1, snake_head[1])\n",
    "        elif a == 2:  # Move left\n",
    "            new_head = (snake_head[0], snake_head[1]-1)\n",
    "        elif a == 3:  # Move right\n",
    "            new_head = (snake_head[0], snake_head[1]+1)\n",
    "\n",
    "        \n",
    "        if(new_head[0] < 0 or new_head[0] >= rows \n",
    "           or new_head[1] < 0 or new_head[1] >= cols \n",
    "           or map_data[new_head[0]][new_head[1]] == 'x'\n",
    "           or map_data[new_head[0]][new_head[1]] == \"#\"\n",
    "           ):\n",
    "            return t\n",
    "        \n",
    "        # the head become body\n",
    "        snake_body.append(snake_head)\n",
    "        map_data[new_head[0]][new_head[1]] = '@'\n",
    "        map_data[snake_head[0]][snake_head[1]] = '#'\n",
    "\n",
    "        #remove the tail\n",
    "        if len(snake_body) > 1:\n",
    "            tail = snake_body.pop(0)\n",
    "            map_data[tail[0]][tail[1]] = '-'\n",
    "\n",
    "        snake_head = new_head\n",
    "\n",
    "    return f\"{snake_head[0]} {snake_head[1]}\"\n",
    "\n",
    "map_data = np.array([\n",
    "    list(\"---------\"),\n",
    "    list(\"------x--\"),\n",
    "    list(\"-x-------\"),\n",
    "    list(\"---@-----\"),\n",
    "    list(\"---##----\"),\n",
    "    list(\"------x--\"),\n",
    "    list(\"--x----x-\"),\n",
    "    list(\"-x-------\"),\n",
    "    list(\"---------\")\n",
    "], dtype=str)\n",
    "actions = np.array([0, 0, 3, 3, 0, 3, 3, 1, 1, 1, 1, 1, 3, 1, 1, 2, 2, 2, 2, 2], dtype=int)\n",
    "\n",
    "result = snake(map_data, actions)\n",
    "print(result)"
   ]
  },
  {
   "cell_type": "code",
   "execution_count": null,
   "metadata": {},
   "outputs": [],
   "source": []
  },
  {
   "cell_type": "code",
   "execution_count": 57,
   "metadata": {
    "pycharm": {
     "name": "#%%\n"
    }
   },
   "outputs": [
    {
     "name": "stdout",
     "output_type": "stream",
     "text": [
      "[['-', '-', '-', '-', '-', '-', '-', '-', '-'], ['-', '-', '-', '-', '-', '-', 'x', '-', '-'], ['-', 'x', '-', '-', '-', '-', '-', '-', '-'], ['-', '-', '-', '@', '-', '-', '-', '-', '-'], ['-', '-', '-', '#', '#', '-', '-', '-', '-'], ['-', '-', '-', '-', '-', '-', 'x', '-', '-'], ['-', '-', 'x', '-', '-', '-', '-', 'x', '-'], ['-', 'x', '-', '-', '-', '-', '-', '-', '-'], ['-', '-', '-', '-', '-', '-', '-', '-', '-']]\n",
      "[0, 0, 3, 3, 0, 3, 3, 1, 1, 1, 1, 1, 3, 1, 1, 2, 2, 2, 2, 2]\n",
      "7 3\n",
      "[['-', '-', '-', '-', '-', '-', '-', '-', '-'], ['-', '-', '-', '-', '-', '-', 'x', '-', '-'], ['-', 'x', '-', '-', '-', '-', '-', '-', '-'], ['-', '-', '-', '@', '-', '-', '-', '-', '-'], ['-', '-', '-', '#', '#', '-', '-', '-', '-'], ['-', '-', '-', '-', '-', '-', 'x', '-', '-'], ['-', '-', 'x', '-', '-', '-', '-', 'x', '-'], ['-', 'x', '-', '-', '-', '-', '-', '-', '-'], ['-', '-', '-', '-', '-', '-', '-', '-', '-']]\n",
      "[0, 0, 2, 0, 3, 3, 3, 3, 3, 3, 3, 3, 0, 3, 3, 1, 1, 1, 1, 1, 3, 1, 1, 2, 2, 2, 2, 2]\n",
      "11\n",
      "[['-', '-', '-', '-', '-', '-', '-', '-', '-'], ['-', '-', '-', '-', '-', '-', 'x', '-', '-'], ['-', 'x', '-', '-', '-', '-', '-', '-', '-'], ['-', '-', '-', '@', '-', '-', '-', '-', '-'], ['-', '-', '-', '#', '#', '-', '-', '-', '-'], ['-', '-', '-', '-', '-', '-', 'x', '-', '-'], ['-', '-', 'x', '-', '-', '-', '-', 'x', '-'], ['-', 'x', '-', '-', '-', '-', '-', '-', '-'], ['-', '-', '-', '-', '-', '-', '-', '-', '-']]\n",
      "[0, 2, 0, 2, 2, 1, 1, 1, 1, 1, 1, 3, 3, 3, 0, 0, 0]\n",
      "12\n",
      "[['-', '-', '-', '-', '-', '-', '-', '-', '-', '-', '-', '-', '-'], ['-', '-', '-', '-', '-', '-', 'x', '-', '-', '-', '-', '-', '-'], ['-', 'x', '-', '-', '-', '-', '-', '-', '-', '-', '-', '-', '-'], ['-', '-', '-', '@', '-', '-', '-', '-', '-', '-', 'x', '-', '-'], ['-', '-', '-', '#', '#', '#', '-', '-', '-', '-', 'x', '-', '-'], ['-', '-', '-', '-', '-', '#', '-', '-', '-', '-', 'x', '-', '-'], ['-', '-', 'x', '-', '-', '#', '-', '-', '-', '-', '-', '-', '-'], ['-', '-', '-', '#', '#', '#', '-', '-', '-', '-', '-', '-', '-'], ['-', '-', '-', '-', '-', '-', '-', '-', 'x', 'x', '-', '-', '-'], ['-', '-', '-', '-', '-', '-', '-', '-', '-', '-', '-', '-', '-']]\n",
      "[0, 3, 3, 3, 3, 1, 1, 1, 2, 2, 2, 1, 1, 3, 3, 3, 3, 3, 3, 1, 1, 2, 2, 2, 2, 0, 0, 0, 3, 3, 1, 2, 2, 2, 2, 0, 0, 0]\n",
      "33\n"
     ]
    }
   ],
   "source": [
    "# test block, you may need to modify this block.\n",
    "for test_case in range(1,5):\n",
    "    with open(f'pythonpractice_test_cases/{test_case}-map.txt', 'r') as f:\n",
    "        game_map = [list(line.strip()) for line in f.readlines()]\n",
    "    print(game_map)\n",
    "    with open(f'./pythonpractice_test_cases/{test_case}-actions.txt', 'r') as f:\n",
    "        actions = [*map(int, f.read().split(' '))]\n",
    "    print(actions)\n",
    "    print(snake(game_map,actions))\n"
   ]
  },
  {
   "cell_type": "code",
   "execution_count": null,
   "metadata": {},
   "outputs": [],
   "source": []
  }
 ],
 "metadata": {
  "interpreter": {
   "hash": "6eea70d608ba4e65e3b5d32ac8522b4d78d39b471a2766e116e1911c1dde4fb7"
  },
  "kernelspec": {
   "display_name": "Python 3 (ipykernel)",
   "language": "python",
   "name": "python3"
  },
  "language_info": {
   "codemirror_mode": {
    "name": "ipython",
    "version": 3
   },
   "file_extension": ".py",
   "mimetype": "text/x-python",
   "name": "python",
   "nbconvert_exporter": "python",
   "pygments_lexer": "ipython3",
   "version": "3.11.4"
  }
 },
 "nbformat": 4,
 "nbformat_minor": 1
}
